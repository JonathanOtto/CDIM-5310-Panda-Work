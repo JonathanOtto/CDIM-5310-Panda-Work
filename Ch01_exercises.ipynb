{
 "cells": [
  {
   "cell_type": "markdown",
   "metadata": {},
   "source": [
    "# Coding exercises\n",
    "Exercises 1-3 are thought exercises that don't require coding. If you need a Python crash-course/refresher, work through the [`python_101.ipynb`](./python_101.ipynb) notebook in chapter 1.\n",
    "\n",
    "## Exercise 4: Generate the data by running this cell\n",
    "This will give you a list of numbers to work with in the remaining exercises."
   ]
  },
  {
   "cell_type": "code",
   "execution_count": 4,
   "metadata": {},
   "outputs": [],
   "source": [
    "import random\n",
    "\n",
    "random.seed(0)\n",
    "salaries = [round(random.random()*1000000, -3) for _ in range(100)]"
   ]
  },
  {
   "cell_type": "markdown",
   "metadata": {},
   "source": [
    "## Exercise 5: Calculating statistics and verifying\n",
    "### mean"
   ]
  },
  {
   "cell_type": "code",
   "execution_count": 10,
   "metadata": {},
   "outputs": [
    {
     "data": {
      "text/plain": [
       "True"
      ]
     },
     "execution_count": 10,
     "metadata": {},
     "output_type": "execute_result"
    }
   ],
   "source": [
    "sum(salaries)/100 ==  mean(salaries)"
   ]
  },
  {
   "cell_type": "markdown",
   "metadata": {},
   "source": [
    "### median"
   ]
  },
  {
   "cell_type": "code",
   "execution_count": 17,
   "metadata": {},
   "outputs": [
    {
     "data": {
      "text/plain": [
       "True"
      ]
     },
     "execution_count": 17,
     "metadata": {},
     "output_type": "execute_result"
    }
   ],
   "source": [
    "from statistics import median\n",
    "salaries.sort()\n",
    "(salaries[49] + salaries[50])/2 == median(salaries)"
   ]
  },
  {
   "cell_type": "markdown",
   "metadata": {},
   "source": [
    "### mode"
   ]
  },
  {
   "cell_type": "code",
   "execution_count": 18,
   "metadata": {},
   "outputs": [
    {
     "data": {
      "text/plain": [
       "True"
      ]
     },
     "execution_count": 18,
     "metadata": {},
     "output_type": "execute_result"
    }
   ],
   "source": [
    "from statistics import mode\n",
    "from collections import Counter\n",
    "\n",
    "Counter(salaries).most_common(1)[0][0] == mode(salaries)"
   ]
  },
  {
   "cell_type": "markdown",
   "metadata": {},
   "source": [
    "### sample variance\n",
    "Remember to use Bessel's correction."
   ]
  },
  {
   "cell_type": "code",
   "execution_count": 22,
   "metadata": {},
   "outputs": [
    {
     "data": {
      "text/plain": [
       "True"
      ]
     },
     "execution_count": 22,
     "metadata": {},
     "output_type": "execute_result"
    }
   ],
   "source": [
    "from statistics import variance\n",
    "sum((x - mean(salaries))**2 for x in salaries)/99 == variance(salaries)"
   ]
  },
  {
   "cell_type": "markdown",
   "metadata": {},
   "source": [
    "### sample standard deviation\n",
    "Remember to use Bessel's correction."
   ]
  },
  {
   "cell_type": "code",
   "execution_count": 26,
   "metadata": {},
   "outputs": [
    {
     "data": {
      "text/plain": [
       "True"
      ]
     },
     "execution_count": 26,
     "metadata": {},
     "output_type": "execute_result"
    }
   ],
   "source": [
    "from statistics import stdev\n",
    "import math\n",
    "math.sqrt (variance(salaries)) == stdev(salaries)"
   ]
  },
  {
   "cell_type": "markdown",
   "metadata": {},
   "source": [
    "## Exercise 6: Calculating more statistics\n",
    "### range"
   ]
  },
  {
   "cell_type": "code",
   "execution_count": 28,
   "metadata": {},
   "outputs": [
    {
     "data": {
      "text/plain": [
       "986000.0"
      ]
     },
     "execution_count": 28,
     "metadata": {},
     "output_type": "execute_result"
    }
   ],
   "source": [
    "max(salaries) - min(salaries)"
   ]
  },
  {
   "cell_type": "markdown",
   "metadata": {},
   "source": [
    "### coefficient of variation\n",
    "Make sure to use the sample standard deviation."
   ]
  },
  {
   "cell_type": "code",
   "execution_count": 29,
   "metadata": {},
   "outputs": [
    {
     "data": {
      "text/plain": [
       "0.6279103863019512"
      ]
     },
     "execution_count": 29,
     "metadata": {},
     "output_type": "execute_result"
    }
   ],
   "source": [
    "from statistics import stdev\n",
    "import math\n",
    "stdev(salaries) / mean(salaries)"
   ]
  },
  {
   "cell_type": "markdown",
   "metadata": {},
   "source": [
    "### interquartile range"
   ]
  },
  {
   "cell_type": "code",
   "execution_count": 30,
   "metadata": {},
   "outputs": [
    {
     "data": {
      "text/plain": [
       "453000.0"
      ]
     },
     "execution_count": 30,
     "metadata": {},
     "output_type": "execute_result"
    }
   ],
   "source": [
    "salaries.sort()\n",
    "q1 = salaries[24]\n",
    "q3 = salaries[74]\n",
    "q3-q1"
   ]
  },
  {
   "cell_type": "markdown",
   "metadata": {},
   "source": [
    "### quartile coefficent of dispersion"
   ]
  },
  {
   "cell_type": "code",
   "execution_count": 32,
   "metadata": {},
   "outputs": [
    {
     "data": {
      "text/plain": [
       "0.5072788353863382"
      ]
     },
     "execution_count": 32,
     "metadata": {},
     "output_type": "execute_result"
    }
   ],
   "source": [
    "salaries.sort()\n",
    "q1 = salaries[24]\n",
    "q3 = salaries[74]\n",
    "(q3-q1)/(q3+q1)"
   ]
  },
  {
   "cell_type": "markdown",
   "metadata": {},
   "source": [
    "## Exercise 7: Scaling data\n",
    "### min-max scaling"
   ]
  },
  {
   "cell_type": "code",
   "execution_count": 37,
   "metadata": {},
   "outputs": [
    {
     "data": {
      "text/plain": [
       "[0.0,\n",
       " 0.010141987829614604,\n",
       " 0.02028397565922921,\n",
       " 0.02129817444219067,\n",
       " 0.02535496957403651,\n",
       " 0.034482758620689655,\n",
       " 0.037525354969574036,\n",
       " 0.0436105476673428,\n",
       " 0.04462474645030426,\n",
       " 0.04563894523326572,\n",
       " 0.056795131845841784,\n",
       " 0.10040567951318459,\n",
       " 0.10040567951318459,\n",
       " 0.10141987829614604,\n",
       " 0.11663286004056796,\n",
       " 0.12373225152129817,\n",
       " 0.1460446247464503,\n",
       " 0.16937119675456389,\n",
       " 0.17545638945233266,\n",
       " 0.18052738336713997,\n",
       " 0.18559837728194725,\n",
       " 0.1926977687626775,\n",
       " 0.1997971602434077,\n",
       " 0.21196754563894524,\n",
       " 0.2210953346855984,\n",
       " 0.22210953346855983,\n",
       " 0.24036511156186613,\n",
       " 0.2413793103448276,\n",
       " 0.24442190669371197,\n",
       " 0.2525354969574036,\n",
       " 0.2525354969574036,\n",
       " 0.2616632860040568,\n",
       " 0.2829614604462475,\n",
       " 0.29006085192697767,\n",
       " 0.3133874239350913,\n",
       " 0.3356997971602434,\n",
       " 0.3367139959432049,\n",
       " 0.33874239350912777,\n",
       " 0.3448275862068966,\n",
       " 0.35294117647058826,\n",
       " 0.35496957403651114,\n",
       " 0.36004056795131845,\n",
       " 0.3620689655172414,\n",
       " 0.3620689655172414,\n",
       " 0.37322515212981744,\n",
       " 0.38235294117647056,\n",
       " 0.39148073022312374,\n",
       " 0.3945233265720081,\n",
       " 0.4056795131845842,\n",
       " 0.41379310344827586,\n",
       " 0.4178498985801217,\n",
       " 0.4178498985801217,\n",
       " 0.42190669371196754,\n",
       " 0.4300202839756592,\n",
       " 0.4462474645030426,\n",
       " 0.4766734279918864,\n",
       " 0.5091277890466531,\n",
       " 0.5141987829614605,\n",
       " 0.539553752535497,\n",
       " 0.5669371196754563,\n",
       " 0.5740365111561866,\n",
       " 0.5750507099391481,\n",
       " 0.5801217038539553,\n",
       " 0.5821501014198783,\n",
       " 0.603448275862069,\n",
       " 0.6125760649087221,\n",
       " 0.6277890466531441,\n",
       " 0.6369168356997972,\n",
       " 0.640973630831643,\n",
       " 0.6419878296146044,\n",
       " 0.6440162271805274,\n",
       " 0.654158215010142,\n",
       " 0.6582150101419878,\n",
       " 0.6693711967545639,\n",
       " 0.6805273833671399,\n",
       " 0.6835699797160243,\n",
       " 0.6886409736308317,\n",
       " 0.7058823529411765,\n",
       " 0.7099391480730223,\n",
       " 0.7241379310344828,\n",
       " 0.7393509127789046,\n",
       " 0.7403651115618661,\n",
       " 0.7505070993914807,\n",
       " 0.8042596348884381,\n",
       " 0.8103448275862069,\n",
       " 0.8255578093306288,\n",
       " 0.847870182555781,\n",
       " 0.847870182555781,\n",
       " 0.8549695740365112,\n",
       " 0.8549695740365112,\n",
       " 0.8853955375253549,\n",
       " 0.920892494929006,\n",
       " 0.9290060851926978,\n",
       " 0.9482758620689655,\n",
       " 0.9584178498985801,\n",
       " 0.9645030425963489,\n",
       " 0.9726166328600405,\n",
       " 0.9787018255578094,\n",
       " 0.9929006085192698,\n",
       " 1.0]"
      ]
     },
     "execution_count": 37,
     "metadata": {},
     "output_type": "execute_result"
    }
   ],
   "source": [
    "min_max_scaling = [(x - min(salaries)) /(max(salaries) - min(salaries)) for x in salaries]\n",
    "min_max_scaling"
   ]
  },
  {
   "cell_type": "markdown",
   "metadata": {},
   "source": [
    "### standardizing"
   ]
  },
  {
   "cell_type": "code",
   "execution_count": 36,
   "metadata": {},
   "outputs": [
    {
     "data": {
      "text/plain": [
       "[-1.58558249867003,\n",
       " -1.5505752680014935,\n",
       " -1.5155680373329568,\n",
       " -1.5120673142661032,\n",
       " -1.4980644219986885,\n",
       " -1.4665579143970056,\n",
       " -1.4560557451964444,\n",
       " -1.4350514067953226,\n",
       " -1.4315506837284688,\n",
       " -1.4280499606616153,\n",
       " -1.389542006926225,\n",
       " -1.2390109150515174,\n",
       " -1.2390109150515174,\n",
       " -1.2355101919846636,\n",
       " -1.1829993459818586,\n",
       " -1.158494284513883,\n",
       " -1.0814783770431025,\n",
       " -1.000961746505468,\n",
       " -0.9799574081043462,\n",
       " -0.9624537927700778,\n",
       " -0.9449501774358096,\n",
       " -0.9204451159678338,\n",
       " -0.8959400544998583,\n",
       " -0.8539313776976143,\n",
       " -0.8224248700959313,\n",
       " -0.8189241470290777,\n",
       " -0.7559111318257117,\n",
       " -0.752410408758858,\n",
       " -0.741908239558297,\n",
       " -0.7139024550234677,\n",
       " -0.7139024550234677,\n",
       " -0.6823959474217848,\n",
       " -0.6088807630178578,\n",
       " -0.5843757015498822,\n",
       " -0.5038590710122479,\n",
       " -0.4268431635414673,\n",
       " -0.4233424404746136,\n",
       " -0.41634099434090627,\n",
       " -0.3953366559397843,\n",
       " -0.36733087140495496,\n",
       " -0.3603294252712476,\n",
       " -0.3428258099369793,\n",
       " -0.335824363803272,\n",
       " -0.335824363803272,\n",
       " -0.2973164100678817,\n",
       " -0.26580990246619873,\n",
       " -0.23430339486451573,\n",
       " -0.22380122566395474,\n",
       " -0.18529327192856443,\n",
       " -0.15728748739373513,\n",
       " -0.14328459512632047,\n",
       " -0.14328459512632047,\n",
       " -0.1292817028589058,\n",
       " -0.10127591832407651,\n",
       " -0.04526434925441788,\n",
       " 0.059757342751192044,\n",
       " 0.1717804808905093,\n",
       " 0.18928409622477763,\n",
       " 0.2768021728961192,\n",
       " 0.37132169570116813,\n",
       " 0.3958267571691438,\n",
       " 0.39932748023599746,\n",
       " 0.41683109557026576,\n",
       " 0.4238325417039731,\n",
       " 0.49734772610790007,\n",
       " 0.5288542337095831,\n",
       " 0.581365079712388,\n",
       " 0.612871587314071,\n",
       " 0.6268744795814857,\n",
       " 0.6303752026483392,\n",
       " 0.6373766487820466,\n",
       " 0.6723838794505833,\n",
       " 0.6863867717179979,\n",
       " 0.7248947254533882,\n",
       " 0.7634026791887786,\n",
       " 0.7739048483893395,\n",
       " 0.7914084637236078,\n",
       " 0.8509207558601202,\n",
       " 0.8649236481275347,\n",
       " 0.9139337710634861,\n",
       " 0.966444617066291,\n",
       " 0.9699453401331447,\n",
       " 1.0049525708016813,\n",
       " 1.1904908933449256,\n",
       " 1.2114952317460475,\n",
       " 1.2640060777488524,\n",
       " 1.341021985219633,\n",
       " 1.341021985219633,\n",
       " 1.3655270466876088,\n",
       " 1.3655270466876088,\n",
       " 1.4705487386932186,\n",
       " 1.593074046033097,\n",
       " 1.6210798305679261,\n",
       " 1.6875935688381458,\n",
       " 1.7226007995066825,\n",
       " 1.7436051379078044,\n",
       " 1.7716109224426337,\n",
       " 1.7926152608437558,\n",
       " 1.841625383779707,\n",
       " 1.8661304452476828]"
      ]
     },
     "execution_count": 36,
     "metadata": {},
     "output_type": "execute_result"
    }
   ],
   "source": [
    "from statistics import stdev\n",
    "standardizing = [(x - mean(salaries)) / stdev(salaries) for x in salaries]\n",
    "standardizing"
   ]
  },
  {
   "cell_type": "markdown",
   "metadata": {},
   "source": [
    "## Exercise 8: Calculating covariance and correlation\n",
    "### covariance"
   ]
  },
  {
   "cell_type": "code",
   "execution_count": 40,
   "metadata": {},
   "outputs": [
    {
     "data": {
      "text/plain": [
       "0.28681411695734604"
      ]
     },
     "execution_count": 40,
     "metadata": {},
     "output_type": "execute_result"
    }
   ],
   "source": [
    "from statistics import mean\n",
    "\n",
    "running_total = [\n",
    "    (x - mean(min_max_scaled)) * (y - mean(standardizing))\n",
    "    for x, y in zip(min_max_scaled, standardizing)\n",
    "]\n",
    "\n",
    "cov = mean(running_total)\n",
    "cov"
   ]
  },
  {
   "cell_type": "markdown",
   "metadata": {},
   "source": [
    "### Pearson correlation coefficient ($\\rho$)"
   ]
  },
  {
   "cell_type": "code",
   "execution_count": 43,
   "metadata": {},
   "outputs": [
    {
     "data": {
      "text/plain": [
       "0.9900000000000002"
      ]
     },
     "execution_count": 43,
     "metadata": {},
     "output_type": "execute_result"
    }
   ],
   "source": [
    "from statistics import stdev\n",
    "cov / (stdev(min_max_scaling) * stdev(standardizing))"
   ]
  },
  {
   "cell_type": "markdown",
   "metadata": {},
   "source": [
    "<hr>\n",
    "<div style=\"overflow: hidden; margin-bottom: 10px;\">\n",
    "    <div style=\"float: left;\">\n",
    "        <a href=\"./python_101.ipynb\">\n",
    "            <button>Python 101</button>\n",
    "        </a>\n",
    "    </div>\n",
    "    <div style=\"float: right;\">\n",
    "        <a href=\"../../solutions/ch_01/solutions.ipynb\">\n",
    "            <button>Solutions</button>\n",
    "        </a>\n",
    "        <a href=\"../ch_02/1-pandas_data_structures.ipynb\">\n",
    "            <button>Chapter 2 &#8594;</button>\n",
    "        </a>\n",
    "    </div>\n",
    "</div>\n",
    "<hr>"
   ]
  }
 ],
 "metadata": {
  "kernelspec": {
   "display_name": "Python 3",
   "language": "python",
   "name": "python3"
  },
  "language_info": {
   "codemirror_mode": {
    "name": "ipython",
    "version": 3
   },
   "file_extension": ".py",
   "mimetype": "text/x-python",
   "name": "python",
   "nbconvert_exporter": "python",
   "pygments_lexer": "ipython3",
   "version": "3.9.2"
  }
 },
 "nbformat": 4,
 "nbformat_minor": 4
}
